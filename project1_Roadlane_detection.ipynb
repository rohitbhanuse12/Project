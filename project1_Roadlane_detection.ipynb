{
 "cells": [
  {
   "cell_type": "code",
   "execution_count": 3,
   "metadata": {},
   "outputs": [
    {
     "data": {
      "text/plain": [
       "-1"
      ]
     },
     "execution_count": 3,
     "metadata": {},
     "output_type": "execute_result"
    }
   ],
   "source": [
    "#                               ROAD LANE DETECTION\n",
    "# 1. Read Image using cv2\n",
    "import cv2\n",
    "import numpy as np\n",
    "img=cv2.imread('test_img.jpeg')\n",
    "lane_img=np.copy(img)\n",
    "cv2.imshow(\"Test_img\",img)\n",
    "\n",
    "# Convert img to gray img\n",
    "gray =cv2.cvtColor(img,cv2.COLOR_BGR2GRAY)\n",
    "cv2.imshow('Gray',gray)\n",
    "\n",
    "# 2. Apply Gaussian Blur to image\n",
    "gauss1 = cv2.GaussianBlur(img,(7,7),0)\n",
    "cv2.imshow('Gaussian_Blur',gauss1)\n",
    "\n",
    "# 3. Identify edges from image\n",
    "canny=cv2.Canny(img,50,150)\n",
    "cv2.imshow('Canny',canny)\n",
    "# 4. Identify lane lines\n",
    "# 5. Understand binary numbers\n",
    "# 6. Understand Hough Transform\n",
    "# 7. Understand lentical lines (THEORY)\n",
    "# 8. Apply lane detection\n",
    "# 9. Apply threshold adjustment\n",
    "# 10. Use video instead of image to get result\n",
    "cv2.waitKey(0)"
   ]
  },
  {
   "cell_type": "code",
   "execution_count": 14,
   "metadata": {},
   "outputs": [
    {
     "name": "stdout",
     "output_type": "stream",
     "text": [
      "0\n",
      "1\n",
      "4\n",
      "9\n",
      "16\n",
      "25\n",
      "36\n",
      "49\n"
     ]
    }
   ],
   "source": [
    "n = int(input(\"Enter an integer\"))\n",
    "for i in range(0,n+1):\n",
    "    print(i*i)\n"
   ]
  },
  {
   "cell_type": "code",
   "execution_count": 11,
   "metadata": {},
   "outputs": [
    {
     "ename": "TypeError",
     "evalue": "'numpy.ndarray' object is not callable",
     "output_type": "error",
     "traceback": [
      "\u001b[1;31m---------------------------------------------------------------------------\u001b[0m",
      "\u001b[1;31mTypeError\u001b[0m                                 Traceback (most recent call last)",
      "Cell \u001b[1;32mIn[11], line 43\u001b[0m\n\u001b[0;32m     41\u001b[0m \u001b[39mwhile\u001b[39;00m(cap\u001b[39m.\u001b[39misOpened()):\n\u001b[0;32m     42\u001b[0m     f,frame\u001b[39m=\u001b[39mcap\u001b[39m.\u001b[39mread()\n\u001b[1;32m---> 43\u001b[0m     canny\u001b[39m=\u001b[39mcanny(frame)\n\u001b[0;32m     44\u001b[0m     cropped_img\u001b[39m=\u001b[39mregion_of_interest(canny)\n\u001b[0;32m     45\u001b[0m     cv2\u001b[39m.\u001b[39mimshow(\u001b[39m'\u001b[39m\u001b[39mResult1\u001b[39m\u001b[39m'\u001b[39m,cropped_img)\n",
      "\u001b[1;31mTypeError\u001b[0m: 'numpy.ndarray' object is not callable"
     ]
    }
   ],
   "source": [
    "import cv2\n",
    "import numpy as np\n",
    "# import matplotlib.pyplot as plt\n",
    "\n",
    "# img=cv2.imread('test_img.jpeg')\n",
    "# cv2.imshow(\"Test_img\",img)\n",
    "# lane_img=np.copy(img)\n",
    "\n",
    "\n",
    "def canny(img):\n",
    "    gray =cv2.cvtColor(img,cv2.COLOR_BGR2GRAY)\n",
    "    cv2.imshow('Gray',gray)\n",
    "    gauss = cv2.GaussianBlur(img,(7,7),0)\n",
    "    cv2.imshow('Gaussian_Blur',gauss)\n",
    "    canny=cv2.Canny(img,50,150)\n",
    "    cv2.imshow('Canny',canny)\n",
    "    return canny    \n",
    "# cv2.imshow('Edge_Detected',canny)\n",
    "\n",
    "# plt.imshow(canny)\n",
    "# plt.show()\n",
    "\n",
    "def region_of_interest(img):\n",
    "    height=img.shape[0]\n",
    "    triangle=np.array([[(200,height),(1100,height),(550,250)]])\n",
    "    mask=np.zeros_like(img)\n",
    "    cv2.fillPoly(mask,triangle,255)\n",
    "    masked_img=cv2.bitwise_and(img,mask)\n",
    "    return masked_img\n",
    "\n",
    "# Displaying Transformed Lines\n",
    "def display_lines(img,lines):\n",
    "    line_img=np.zeros_like(img)\n",
    "    if lines is not None:\n",
    "        for line in lines:\n",
    "            x1,y1,x2,y2=line.reshape(4)\n",
    "            cv2.line(line_img,(x1,y1),(x2,y2),(255,0,0),10)\n",
    "    return line_img\n",
    "\n",
    "cap=cv2.VideoCapture('test_vid.mp4')\n",
    "while(cap.isOpened()):\n",
    "    f,frame=cap.read()\n",
    "    canny=canny(frame)\n",
    "    cropped_img=region_of_interest(canny)\n",
    "    cv2.imshow('Result1',cropped_img)\n",
    "# Transforming points to line (Hough Transform)\n",
    "    Lines=cv2.HoughLinesP(cropped_img,2,np.pi/180,100,np.array([]),minLineLength=40,maxLineGap=5)\n",
    "    line_img=display_lines(frame,Lines)\n",
    "    cv2.imshow('Result',line_img)\n",
    "    \n",
    "# Smoothing lines using weights\n",
    "    weighted_img=cv2.addWeighted(frame,0.8,line_img,1,1)\n",
    "    cv2.imshow(\"Result_New\",weighted_img)\n",
    "    cv2.waitKey(0)"
   ]
  },
  {
   "cell_type": "code",
   "execution_count": null,
   "metadata": {},
   "outputs": [],
   "source": []
  }
 ],
 "metadata": {
  "kernelspec": {
   "display_name": "opencv2",
   "language": "python",
   "name": "python3"
  },
  "language_info": {
   "codemirror_mode": {
    "name": "ipython",
    "version": 3
   },
   "file_extension": ".py",
   "mimetype": "text/x-python",
   "name": "python",
   "nbconvert_exporter": "python",
   "pygments_lexer": "ipython3",
   "version": "3.11.2"
  },
  "orig_nbformat": 4
 },
 "nbformat": 4,
 "nbformat_minor": 2
}
