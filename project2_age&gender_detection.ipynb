{
 "cells": [
  {
   "attachments": {},
   "cell_type": "markdown",
   "metadata": {},
   "source": [
    "Step 1. Read video from Webcam\n",
    "Step 2. Face Detection\n",
    "Step 3. Bounding Box of Detected Face"
   ]
  },
  {
   "cell_type": "code",
   "execution_count": 1,
   "metadata": {},
   "outputs": [
    {
     "ename": "UnboundLocalError",
     "evalue": "cannot access local variable 'bboxs' where it is not associated with a value",
     "output_type": "error",
     "traceback": [
      "\u001b[1;31m---------------------------------------------------------------------------\u001b[0m",
      "\u001b[1;31mUnboundLocalError\u001b[0m                         Traceback (most recent call last)",
      "Cell \u001b[1;32mIn[1], line 41\u001b[0m\n\u001b[0;32m     39\u001b[0m \u001b[39mwhile\u001b[39;00m \u001b[39mTrue\u001b[39;00m:\n\u001b[0;32m     40\u001b[0m     ret,frame\u001b[39m=\u001b[39m cap\u001b[39m.\u001b[39mread()\n\u001b[1;32m---> 41\u001b[0m     detect\u001b[39m=\u001b[39mfaceBox(faceNet,frame)\n\u001b[0;32m     42\u001b[0m     cv2\u001b[39m.\u001b[39mimshow(\u001b[39m\"\u001b[39m\u001b[39mAge_Gender \u001b[39m\u001b[39m\"\u001b[39m, frame)\n\u001b[0;32m     43\u001b[0m     vid\u001b[39m=\u001b[39mcv2\u001b[39m.\u001b[39mwaitKey(\u001b[39m1\u001b[39m)\n",
      "Cell \u001b[1;32mIn[1], line 25\u001b[0m, in \u001b[0;36mfaceBox\u001b[1;34m(faceNet, frame)\u001b[0m\n\u001b[0;32m     23\u001b[0m         bboxs\u001b[39m.\u001b[39mappend([x1,y1,x2,y2])\n\u001b[0;32m     24\u001b[0m         cv2\u001b[39m.\u001b[39mrectangle(frame,(x1,y1),(x2,y2),(\u001b[39m0\u001b[39m,\u001b[39m255\u001b[39m,\u001b[39m0\u001b[39m),\u001b[39m1\u001b[39m)\n\u001b[1;32m---> 25\u001b[0m     \u001b[39mreturn\u001b[39;00m frame,bboxs\n\u001b[0;32m     28\u001b[0m \u001b[39mprint\u001b[39m(detection\u001b[39m.\u001b[39mshape)\n\u001b[0;32m     29\u001b[0m \u001b[39mreturn\u001b[39;00m detection\n",
      "\u001b[1;31mUnboundLocalError\u001b[0m: cannot access local variable 'bboxs' where it is not associated with a value"
     ]
    },
    {
     "ename": "",
     "evalue": "",
     "output_type": "error",
     "traceback": [
      "\u001b[1;31mThe Kernel crashed while executing code in the the current cell or a previous cell. Please review the code in the cell(s) to identify a possible cause of the failure. Click <a href='https://aka.ms/vscodeJupyterKernelCrash'>here</a> for more info. View Jupyter <a href='command:jupyter.viewOutput'>log</a> for further details."
     ]
    }
   ],
   "source": [
    "#                          AGE & GENDER DETECTION PROJECT\n",
    "\n",
    "import cv2\n",
    "# face detection\n",
    "def faceBox(faceNet,frame):\n",
    "    frameHeight=frame.shape[0]\n",
    "    frameWidth=frame.shape[1]\n",
    "\n",
    "    # constructing blob from frame dimensions\n",
    "    blob=cv2.dnn.blobFromImage(frame,1.0,(227,227),[104,117,123],swapRB=False)\n",
    "    # pass blob through Net& obtain face detectiions\n",
    "    faceNet.setInput(blob)\n",
    "    detection=faceNet.forward()\n",
    "    for i in range(detection.shape[2]):\n",
    "        confidence=detection[0,0,i,2]\n",
    "        if confidence>0.7:\n",
    "            bboxs=[]\n",
    "        # Draw Rectangle\n",
    "            x1=int(detection[0,0,i,3]*frameWidth)\n",
    "            y1=int(detection[0,0,i,4]*frameHeight)\n",
    "            x2=int(detection[0,0,i,5]*frameWidth)\n",
    "            y2=int(detection[0,0,i,6]*frameHeight)\n",
    "            bboxs.append([x1,y1,x2,y2])\n",
    "            cv2.rectangle(frame,(x1,y1),(x2,y2),(0,255,0),1)\n",
    "        return frame,bboxs\n",
    "\n",
    "\n",
    "    print(detection.shape)\n",
    "    return detection\n",
    "\n",
    "faceProto='C:/Users/hp/Desktop/Training/OpenCV/opencv2/opencv2_files/Age _ Gender Recongniition/opencv_face_detector.pbtxt'\n",
    "\n",
    "faceModel='C:/Users/hp/Desktop/Training/\\OpenCV/opencv2/opencv2_files/Age _ Gender Recongniition/opencv_face_detector_uint8.pb'\n",
    "\n",
    "faceNet=cv2.dnn.readNet(faceModel,faceProto)\n",
    "\n",
    "# video capture\n",
    "cap=cv2.VideoCapture(0)\n",
    "while True:\n",
    "    ret,frame= cap.read()\n",
    "    detect=faceBox(faceNet,frame)\n",
    "    cv2.imshow(\"Age_Gender \", frame)\n",
    "    vid=cv2.waitKey(1)\n",
    "    if vid==ord('q'):\n",
    "        break\n",
    "cap.release()\n",
    "cv2.destroyAllWindows()\n",
    "\n"
   ]
  },
  {
   "cell_type": "code",
   "execution_count": null,
   "metadata": {},
   "outputs": [],
   "source": []
  }
 ],
 "metadata": {
  "kernelspec": {
   "display_name": "opencv2",
   "language": "python",
   "name": "python3"
  },
  "language_info": {
   "codemirror_mode": {
    "name": "ipython",
    "version": 3
   },
   "file_extension": ".py",
   "mimetype": "text/x-python",
   "name": "python",
   "nbconvert_exporter": "python",
   "pygments_lexer": "ipython3",
   "version": "3.11.2"
  },
  "orig_nbformat": 4
 },
 "nbformat": 4,
 "nbformat_minor": 2
}
